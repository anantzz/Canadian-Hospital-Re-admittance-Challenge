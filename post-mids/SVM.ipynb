{
  "cells": [
    {
      "cell_type": "code",
      "execution_count": null,
      "metadata": {
        "colab": {
          "base_uri": "https://localhost:8080/"
        },
        "id": "fpKZtCtSjHgS",
        "outputId": "d2168d55-e671-47e7-b68f-24508589e672"
      },
      "outputs": [
        {
          "name": "stdout",
          "output_type": "stream",
          "text": [
            "Mounted at /content/drive\n"
          ]
        }
      ],
      "source": [
        "fr# Adithya Sunilkumar - IMT2021068\n",
        "# Kevin Adesara - IMT2021070\n",
        "# Anant Ojha - IMT2021102\n",
        "\n",
        "om google.colab import drive\n",
        "\n",
        "drive.mount('/content/drive')\n"
      ]
    },
    {
      "cell_type": "code",
      "execution_count": null,
      "metadata": {
        "id": "Y2_tO3TFHhBM"
      },
      "outputs": [],
      "source": [
        "import pandas as pd\n",
        "from sklearn.model_selection import train_test_split\n",
        "from sklearn.preprocessing import StandardScaler, OneHotEncoder\n",
        "from sklearn.impute import SimpleImputer\n",
        "from sklearn.compose import ColumnTransformer\n",
        "from sklearn.pipeline import Pipeline\n",
        "from sklearn.svm import SVC\n",
        "from sklearn.metrics import accuracy_score\n",
        "\n",
        "# Load your data\n",
        "train_data = pd.read_csv('/content/drive/MyDrive/Colab Notebooks/train.csv')\n",
        "test_data = pd.read_csv('/content/drive/MyDrive/Colab Notebooks/test.csv')\n",
        "\n",
        "train_frequency = train_data['patient_id'].value_counts().to_dict()\n",
        "test_frequency = test_data['patient_id'].value_counts().to_dict()\n",
        "frequency = {}\n",
        "\n",
        "for i in train_frequency:\n",
        "    frequency[i] = 0\n",
        "for i in test_frequency:\n",
        "    frequency[i] = 0\n",
        "\n",
        "for i in train_frequency:\n",
        "    frequency[i] += train_frequency[i]\n",
        "for i in test_frequency:\n",
        "    frequency[i] += test_frequency[i]\n",
        "\n",
        "train_data['frequency'] = train_data['patient_id'].map(frequency)\n",
        "test_data['frequency'] = test_data['patient_id'].map(frequency)"
      ]
    },
    {
      "cell_type": "code",
      "execution_count": null,
      "metadata": {
        "id": "mdnNWZbKjehq"
      },
      "outputs": [],
      "source": [
        "# Splitting data into training and validation sets\n",
        "X = train_data.drop('readmission_id', axis=1)\n",
        "y = train_data['readmission_id']\n",
        "X_train, X_val, y_train, y_val = train_test_split(X, y, test_size=0.2, random_state=42)\n",
        "\n",
        "# Identifying categorical and numerical columns\n",
        "categorical_cols = X_train.select_dtypes(include=['object']).columns\n",
        "numerical_cols = X_train.select_dtypes(include=['int64', 'float64']).columns\n",
        "\n",
        "# Preprocessing for numerical data\n",
        "numerical_transformer = Pipeline(steps=[\n",
        "    ('imputer', SimpleImputer(strategy='median')),\n",
        "    ('scaler', StandardScaler())\n",
        "])\n",
        "\n",
        "# Preprocessing for categorical data\n",
        "categorical_transformer = Pipeline(steps=[\n",
        "    ('imputer', SimpleImputer(strategy='most_frequent')),\n",
        "    ('onehot', OneHotEncoder(handle_unknown='ignore'))\n",
        "])\n",
        "\n",
        "# Bundle preprocessing for numerical and categorical data\n",
        "preprocessor = ColumnTransformer(\n",
        "    transformers=[\n",
        "        ('num', numerical_transformer, numerical_cols),\n",
        "        ('cat', categorical_transformer, categorical_cols)\n",
        "    ])\n",
        "\n",
        "# Apply preprocessing\n",
        "X_train = preprocessor.fit_transform(X_train)\n",
        "X_val = preprocessor.transform(X_val)"
      ]
    },
    {
      "cell_type": "code",
      "execution_count": null,
      "metadata": {
        "colab": {
          "base_uri": "https://localhost:8080/"
        },
        "id": "J-tFmdr1mtSv",
        "outputId": "8e2e38ef-bae8-4ad9-a469-226a7d873879"
      },
      "outputs": [
        {
          "name": "stdout",
          "output_type": "stream",
          "text": [
            "Polynomial Kernel Accuracy: 0.7142055025266704\n"
          ]
        }
      ],
      "source": [
        "# SVM with Polynomial Kernel\n",
        "svm_poly = SVC(kernel='poly', degree=3, random_state=42)\n",
        "svm_poly.fit(X_train, y_train)\n",
        "y_pred_poly = svm_poly.predict(X_val)\n",
        "accuracy_poly = accuracy_score(y_val, y_pred_poly)\n",
        "print(f'Polynomial Kernel Accuracy: {accuracy_poly}')"
      ]
    },
    {
      "cell_type": "code",
      "execution_count": null,
      "metadata": {
        "id": "mpr0biyNZqQb"
      },
      "outputs": [],
      "source": [
        "X_test = preprocessor.transform(test_data)\n",
        "test_predictions_poly = svm_poly.predict(X_test)\n",
        "output_df = pd.DataFrame({'enc_id': test_data['enc_id'], 'readmission_id': test_predictions_poly})\n",
        "output_df.to_csv('/content/drive/MyDrive/Colab Notebooks/output.csv', index=False)"
      ]
    },
    {
      "cell_type": "code",
      "execution_count": null,
      "metadata": {
        "colab": {
          "base_uri": "https://localhost:8080/"
        },
        "id": "DLqsO-H7tKN2",
        "outputId": "d3b009a3-30a5-4e68-94d0-6769b3496791"
      },
      "outputs": [
        {
          "name": "stdout",
          "output_type": "stream",
          "text": [
            "RBF Kernel Accuracy: 0.7127316114542392\n"
          ]
        }
      ],
      "source": [
        "# SVM with RBF Kernel\n",
        "svm_rbf = SVC(kernel='rbf', random_state=42)\n",
        "svm_rbf.fit(X_train, y_train)\n",
        "y_pred_rbf = svm_rbf.predict(X_val)\n",
        "accuracy_rbf = accuracy_score(y_val, y_pred_rbf)\n",
        "print(f'RBF Kernel Accuracy: {accuracy_rbf}')"
      ]
    },
    {
      "cell_type": "code",
      "execution_count": null,
      "metadata": {
        "id": "0_43CnH4xb94"
      },
      "outputs": [],
      "source": [
        "X_test = preprocessor.transform(test_data)\n",
        "test_predictions_rbf = svm_rbf.predict(X_test)\n",
        "output_df = pd.DataFrame({'enc_id': test_data['enc_id'], 'readmission_id': test_predictions_rbf})\n",
        "output_df.to_csv('/content/drive/MyDrive/Colab Notebooks/output.csv', index=False)"
      ]
    }
  ],
  "metadata": {
    "colab": {
      "provenance": []
    },
    "kernelspec": {
      "display_name": "Python 3",
      "name": "python3"
    },
    "language_info": {
      "name": "python"
    }
  },
  "nbformat": 4,
  "nbformat_minor": 0
}
